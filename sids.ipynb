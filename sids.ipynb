{
  "nbformat": 4,
  "nbformat_minor": 0,
  "metadata": {
    "colab": {
      "name": "DMT_Logistic_Regression_SKlearn.ipynb",
      "provenance": [],
      "collapsed_sections": []
    },
    "kernelspec": {
      "name": "python3",
      "display_name": "Python 3"
    },
    "language_info": {
      "name": "python"
    }
  },
  "cells": [
    {
      "cell_type": "code",
      "execution_count": 20,
      "metadata": {
        "id": "kORhbKthoq1k"
      },
      "outputs": [],
      "source": [
        "#import statements\n",
        "import pandas as pd\n",
        "from sklearn.preprocessing import StandardScaler\n",
        "from sklearn.linear_model import LogisticRegression\n",
        "from sklearn.metrics import accuracy_score\n",
        "from sklearn.model_selection import cross_val_score, cross_val_predict\n",
        "from sklearn.model_selection import train_test_split\n",
        "from sklearn.model_selection import GridSearchCV\n",
        "import numpy as np\n",
        "from sklearn.svm import SVC\n",
        "from sklearn.metrics import classification_report, confusion_matrix"
      ]
    },
    {
      "cell_type": "code",
      "source": [
        "#load spotify dataset\n",
        "df = pd.read_csv('/content/Dataset/data.csv')\n",
        "df.head()"
      ],
      "metadata": {
        "colab": {
          "base_uri": "https://localhost:8080/",
          "height": 339
        },
        "id": "kfcVBGQUqpUO",
        "outputId": "0adaf233-6ece-465a-b9d8-ce03d409ec88"
      },
      "execution_count": 21,
      "outputs": [
        {
          "output_type": "execute_result",
          "data": {
            "text/plain": [
              "   serial_num  acousticness  danceability  duration_ms  energy  \\\n",
              "0           0        0.0102         0.833       204600   0.434   \n",
              "1           1        0.1990         0.743       326933   0.359   \n",
              "2           2        0.0344         0.838       185707   0.412   \n",
              "3           3        0.6040         0.494       199413   0.338   \n",
              "4           4        0.1800         0.678       392893   0.561   \n",
              "\n",
              "   instrumentalness  key  liveness  loudness  mode  speechiness    tempo  \\\n",
              "0          0.021900    2    0.1650    -8.795     1       0.4310  150.062   \n",
              "1          0.006110    1    0.1370   -10.401     1       0.0794  160.083   \n",
              "2          0.000234    2    0.1590    -7.148     1       0.2890   75.044   \n",
              "3          0.510000    5    0.0922   -15.236     1       0.0261   86.468   \n",
              "4          0.512000    5    0.4390   -11.648     0       0.0694  174.004   \n",
              "\n",
              "   time_signature  valence  target      song_title            artist  \n",
              "0             4.0    0.286       1        Mask Off            Future  \n",
              "1             4.0    0.588       1         Redbone  Childish Gambino  \n",
              "2             4.0    0.173       1    Xanny Family            Future  \n",
              "3             4.0    0.230       1  Master Of None       Beach House  \n",
              "4             4.0    0.904       1  Parallel Lines       Junior Boys  "
            ],
            "text/html": [
              "\n",
              "  <div id=\"df-1eacdee8-1226-4408-9134-430827ef4c05\">\n",
              "    <div class=\"colab-df-container\">\n",
              "      <div>\n",
              "<style scoped>\n",
              "    .dataframe tbody tr th:only-of-type {\n",
              "        vertical-align: middle;\n",
              "    }\n",
              "\n",
              "    .dataframe tbody tr th {\n",
              "        vertical-align: top;\n",
              "    }\n",
              "\n",
              "    .dataframe thead th {\n",
              "        text-align: right;\n",
              "    }\n",
              "</style>\n",
              "<table border=\"1\" class=\"dataframe\">\n",
              "  <thead>\n",
              "    <tr style=\"text-align: right;\">\n",
              "      <th></th>\n",
              "      <th>serial_num</th>\n",
              "      <th>acousticness</th>\n",
              "      <th>danceability</th>\n",
              "      <th>duration_ms</th>\n",
              "      <th>energy</th>\n",
              "      <th>instrumentalness</th>\n",
              "      <th>key</th>\n",
              "      <th>liveness</th>\n",
              "      <th>loudness</th>\n",
              "      <th>mode</th>\n",
              "      <th>speechiness</th>\n",
              "      <th>tempo</th>\n",
              "      <th>time_signature</th>\n",
              "      <th>valence</th>\n",
              "      <th>target</th>\n",
              "      <th>song_title</th>\n",
              "      <th>artist</th>\n",
              "    </tr>\n",
              "  </thead>\n",
              "  <tbody>\n",
              "    <tr>\n",
              "      <th>0</th>\n",
              "      <td>0</td>\n",
              "      <td>0.0102</td>\n",
              "      <td>0.833</td>\n",
              "      <td>204600</td>\n",
              "      <td>0.434</td>\n",
              "      <td>0.021900</td>\n",
              "      <td>2</td>\n",
              "      <td>0.1650</td>\n",
              "      <td>-8.795</td>\n",
              "      <td>1</td>\n",
              "      <td>0.4310</td>\n",
              "      <td>150.062</td>\n",
              "      <td>4.0</td>\n",
              "      <td>0.286</td>\n",
              "      <td>1</td>\n",
              "      <td>Mask Off</td>\n",
              "      <td>Future</td>\n",
              "    </tr>\n",
              "    <tr>\n",
              "      <th>1</th>\n",
              "      <td>1</td>\n",
              "      <td>0.1990</td>\n",
              "      <td>0.743</td>\n",
              "      <td>326933</td>\n",
              "      <td>0.359</td>\n",
              "      <td>0.006110</td>\n",
              "      <td>1</td>\n",
              "      <td>0.1370</td>\n",
              "      <td>-10.401</td>\n",
              "      <td>1</td>\n",
              "      <td>0.0794</td>\n",
              "      <td>160.083</td>\n",
              "      <td>4.0</td>\n",
              "      <td>0.588</td>\n",
              "      <td>1</td>\n",
              "      <td>Redbone</td>\n",
              "      <td>Childish Gambino</td>\n",
              "    </tr>\n",
              "    <tr>\n",
              "      <th>2</th>\n",
              "      <td>2</td>\n",
              "      <td>0.0344</td>\n",
              "      <td>0.838</td>\n",
              "      <td>185707</td>\n",
              "      <td>0.412</td>\n",
              "      <td>0.000234</td>\n",
              "      <td>2</td>\n",
              "      <td>0.1590</td>\n",
              "      <td>-7.148</td>\n",
              "      <td>1</td>\n",
              "      <td>0.2890</td>\n",
              "      <td>75.044</td>\n",
              "      <td>4.0</td>\n",
              "      <td>0.173</td>\n",
              "      <td>1</td>\n",
              "      <td>Xanny Family</td>\n",
              "      <td>Future</td>\n",
              "    </tr>\n",
              "    <tr>\n",
              "      <th>3</th>\n",
              "      <td>3</td>\n",
              "      <td>0.6040</td>\n",
              "      <td>0.494</td>\n",
              "      <td>199413</td>\n",
              "      <td>0.338</td>\n",
              "      <td>0.510000</td>\n",
              "      <td>5</td>\n",
              "      <td>0.0922</td>\n",
              "      <td>-15.236</td>\n",
              "      <td>1</td>\n",
              "      <td>0.0261</td>\n",
              "      <td>86.468</td>\n",
              "      <td>4.0</td>\n",
              "      <td>0.230</td>\n",
              "      <td>1</td>\n",
              "      <td>Master Of None</td>\n",
              "      <td>Beach House</td>\n",
              "    </tr>\n",
              "    <tr>\n",
              "      <th>4</th>\n",
              "      <td>4</td>\n",
              "      <td>0.1800</td>\n",
              "      <td>0.678</td>\n",
              "      <td>392893</td>\n",
              "      <td>0.561</td>\n",
              "      <td>0.512000</td>\n",
              "      <td>5</td>\n",
              "      <td>0.4390</td>\n",
              "      <td>-11.648</td>\n",
              "      <td>0</td>\n",
              "      <td>0.0694</td>\n",
              "      <td>174.004</td>\n",
              "      <td>4.0</td>\n",
              "      <td>0.904</td>\n",
              "      <td>1</td>\n",
              "      <td>Parallel Lines</td>\n",
              "      <td>Junior Boys</td>\n",
              "    </tr>\n",
              "  </tbody>\n",
              "</table>\n",
              "</div>\n",
              "      <button class=\"colab-df-convert\" onclick=\"convertToInteractive('df-1eacdee8-1226-4408-9134-430827ef4c05')\"\n",
              "              title=\"Convert this dataframe to an interactive table.\"\n",
              "              style=\"display:none;\">\n",
              "        \n",
              "  <svg xmlns=\"http://www.w3.org/2000/svg\" height=\"24px\"viewBox=\"0 0 24 24\"\n",
              "       width=\"24px\">\n",
              "    <path d=\"M0 0h24v24H0V0z\" fill=\"none\"/>\n",
              "    <path d=\"M18.56 5.44l.94 2.06.94-2.06 2.06-.94-2.06-.94-.94-2.06-.94 2.06-2.06.94zm-11 1L8.5 8.5l.94-2.06 2.06-.94-2.06-.94L8.5 2.5l-.94 2.06-2.06.94zm10 10l.94 2.06.94-2.06 2.06-.94-2.06-.94-.94-2.06-.94 2.06-2.06.94z\"/><path d=\"M17.41 7.96l-1.37-1.37c-.4-.4-.92-.59-1.43-.59-.52 0-1.04.2-1.43.59L10.3 9.45l-7.72 7.72c-.78.78-.78 2.05 0 2.83L4 21.41c.39.39.9.59 1.41.59.51 0 1.02-.2 1.41-.59l7.78-7.78 2.81-2.81c.8-.78.8-2.07 0-2.86zM5.41 20L4 18.59l7.72-7.72 1.47 1.35L5.41 20z\"/>\n",
              "  </svg>\n",
              "      </button>\n",
              "      \n",
              "  <style>\n",
              "    .colab-df-container {\n",
              "      display:flex;\n",
              "      flex-wrap:wrap;\n",
              "      gap: 12px;\n",
              "    }\n",
              "\n",
              "    .colab-df-convert {\n",
              "      background-color: #E8F0FE;\n",
              "      border: none;\n",
              "      border-radius: 50%;\n",
              "      cursor: pointer;\n",
              "      display: none;\n",
              "      fill: #1967D2;\n",
              "      height: 32px;\n",
              "      padding: 0 0 0 0;\n",
              "      width: 32px;\n",
              "    }\n",
              "\n",
              "    .colab-df-convert:hover {\n",
              "      background-color: #E2EBFA;\n",
              "      box-shadow: 0px 1px 2px rgba(60, 64, 67, 0.3), 0px 1px 3px 1px rgba(60, 64, 67, 0.15);\n",
              "      fill: #174EA6;\n",
              "    }\n",
              "\n",
              "    [theme=dark] .colab-df-convert {\n",
              "      background-color: #3B4455;\n",
              "      fill: #D2E3FC;\n",
              "    }\n",
              "\n",
              "    [theme=dark] .colab-df-convert:hover {\n",
              "      background-color: #434B5C;\n",
              "      box-shadow: 0px 1px 3px 1px rgba(0, 0, 0, 0.15);\n",
              "      filter: drop-shadow(0px 1px 2px rgba(0, 0, 0, 0.3));\n",
              "      fill: #FFFFFF;\n",
              "    }\n",
              "  </style>\n",
              "\n",
              "      <script>\n",
              "        const buttonEl =\n",
              "          document.querySelector('#df-1eacdee8-1226-4408-9134-430827ef4c05 button.colab-df-convert');\n",
              "        buttonEl.style.display =\n",
              "          google.colab.kernel.accessAllowed ? 'block' : 'none';\n",
              "\n",
              "        async function convertToInteractive(key) {\n",
              "          const element = document.querySelector('#df-1eacdee8-1226-4408-9134-430827ef4c05');\n",
              "          const dataTable =\n",
              "            await google.colab.kernel.invokeFunction('convertToInteractive',\n",
              "                                                     [key], {});\n",
              "          if (!dataTable) return;\n",
              "\n",
              "          const docLinkHtml = 'Like what you see? Visit the ' +\n",
              "            '<a target=\"_blank\" href=https://colab.research.google.com/notebooks/data_table.ipynb>data table notebook</a>'\n",
              "            + ' to learn more about interactive tables.';\n",
              "          element.innerHTML = '';\n",
              "          dataTable['output_type'] = 'display_data';\n",
              "          await google.colab.output.renderOutput(dataTable, element);\n",
              "          const docLink = document.createElement('div');\n",
              "          docLink.innerHTML = docLinkHtml;\n",
              "          element.appendChild(docLink);\n",
              "        }\n",
              "      </script>\n",
              "    </div>\n",
              "  </div>\n",
              "  "
            ]
          },
          "metadata": {},
          "execution_count": 21
        }
      ]
    },
    {
      "cell_type": "code",
      "source": [
        "#Data Description and Insights\n",
        "df.describe()"
      ],
      "metadata": {
        "colab": {
          "base_uri": "https://localhost:8080/",
          "height": 364
        },
        "id": "tI0qxGD3q-qa",
        "outputId": "9b5a6756-217c-438c-a33b-2b2987e492b8"
      },
      "execution_count": 22,
      "outputs": [
        {
          "output_type": "execute_result",
          "data": {
            "text/plain": [
              "        serial_num  acousticness  danceability   duration_ms       energy  \\\n",
              "count  2017.000000   2017.000000   2017.000000  2.017000e+03  2017.000000   \n",
              "mean   1008.000000      0.187590      0.618422  2.463062e+05     0.681577   \n",
              "std     582.402066      0.259989      0.161029  8.198181e+04     0.210273   \n",
              "min       0.000000      0.000003      0.122000  1.604200e+04     0.014800   \n",
              "25%     504.000000      0.009630      0.514000  2.000150e+05     0.563000   \n",
              "50%    1008.000000      0.063300      0.631000  2.292610e+05     0.715000   \n",
              "75%    1512.000000      0.265000      0.738000  2.703330e+05     0.846000   \n",
              "max    2016.000000      0.995000      0.984000  1.004627e+06     0.998000   \n",
              "\n",
              "       instrumentalness          key     liveness     loudness         mode  \\\n",
              "count       2017.000000  2017.000000  2017.000000  2017.000000  2017.000000   \n",
              "mean           0.133286     5.342588     0.190844    -7.085624     0.612295   \n",
              "std            0.273162     3.648240     0.155453     3.761684     0.487347   \n",
              "min            0.000000     0.000000     0.018800   -33.097000     0.000000   \n",
              "25%            0.000000     2.000000     0.092300    -8.394000     0.000000   \n",
              "50%            0.000076     6.000000     0.127000    -6.248000     1.000000   \n",
              "75%            0.054000     9.000000     0.247000    -4.746000     1.000000   \n",
              "max            0.976000    11.000000     0.969000    -0.307000     1.000000   \n",
              "\n",
              "       speechiness        tempo  time_signature      valence       target  \n",
              "count  2017.000000  2017.000000     2017.000000  2017.000000  2017.000000  \n",
              "mean      0.092664   121.603272        3.968270     0.496815     0.505702  \n",
              "std       0.089931    26.685604        0.255853     0.247195     0.500091  \n",
              "min       0.023100    47.859000        1.000000     0.034800     0.000000  \n",
              "25%       0.037500   100.189000        4.000000     0.295000     0.000000  \n",
              "50%       0.054900   121.427000        4.000000     0.492000     1.000000  \n",
              "75%       0.108000   137.849000        4.000000     0.691000     1.000000  \n",
              "max       0.816000   219.331000        5.000000     0.992000     1.000000  "
            ],
            "text/html": [
              "\n",
              "  <div id=\"df-37e7ccd0-4614-4642-ae8a-6699a8ec1685\">\n",
              "    <div class=\"colab-df-container\">\n",
              "      <div>\n",
              "<style scoped>\n",
              "    .dataframe tbody tr th:only-of-type {\n",
              "        vertical-align: middle;\n",
              "    }\n",
              "\n",
              "    .dataframe tbody tr th {\n",
              "        vertical-align: top;\n",
              "    }\n",
              "\n",
              "    .dataframe thead th {\n",
              "        text-align: right;\n",
              "    }\n",
              "</style>\n",
              "<table border=\"1\" class=\"dataframe\">\n",
              "  <thead>\n",
              "    <tr style=\"text-align: right;\">\n",
              "      <th></th>\n",
              "      <th>serial_num</th>\n",
              "      <th>acousticness</th>\n",
              "      <th>danceability</th>\n",
              "      <th>duration_ms</th>\n",
              "      <th>energy</th>\n",
              "      <th>instrumentalness</th>\n",
              "      <th>key</th>\n",
              "      <th>liveness</th>\n",
              "      <th>loudness</th>\n",
              "      <th>mode</th>\n",
              "      <th>speechiness</th>\n",
              "      <th>tempo</th>\n",
              "      <th>time_signature</th>\n",
              "      <th>valence</th>\n",
              "      <th>target</th>\n",
              "    </tr>\n",
              "  </thead>\n",
              "  <tbody>\n",
              "    <tr>\n",
              "      <th>count</th>\n",
              "      <td>2017.000000</td>\n",
              "      <td>2017.000000</td>\n",
              "      <td>2017.000000</td>\n",
              "      <td>2.017000e+03</td>\n",
              "      <td>2017.000000</td>\n",
              "      <td>2017.000000</td>\n",
              "      <td>2017.000000</td>\n",
              "      <td>2017.000000</td>\n",
              "      <td>2017.000000</td>\n",
              "      <td>2017.000000</td>\n",
              "      <td>2017.000000</td>\n",
              "      <td>2017.000000</td>\n",
              "      <td>2017.000000</td>\n",
              "      <td>2017.000000</td>\n",
              "      <td>2017.000000</td>\n",
              "    </tr>\n",
              "    <tr>\n",
              "      <th>mean</th>\n",
              "      <td>1008.000000</td>\n",
              "      <td>0.187590</td>\n",
              "      <td>0.618422</td>\n",
              "      <td>2.463062e+05</td>\n",
              "      <td>0.681577</td>\n",
              "      <td>0.133286</td>\n",
              "      <td>5.342588</td>\n",
              "      <td>0.190844</td>\n",
              "      <td>-7.085624</td>\n",
              "      <td>0.612295</td>\n",
              "      <td>0.092664</td>\n",
              "      <td>121.603272</td>\n",
              "      <td>3.968270</td>\n",
              "      <td>0.496815</td>\n",
              "      <td>0.505702</td>\n",
              "    </tr>\n",
              "    <tr>\n",
              "      <th>std</th>\n",
              "      <td>582.402066</td>\n",
              "      <td>0.259989</td>\n",
              "      <td>0.161029</td>\n",
              "      <td>8.198181e+04</td>\n",
              "      <td>0.210273</td>\n",
              "      <td>0.273162</td>\n",
              "      <td>3.648240</td>\n",
              "      <td>0.155453</td>\n",
              "      <td>3.761684</td>\n",
              "      <td>0.487347</td>\n",
              "      <td>0.089931</td>\n",
              "      <td>26.685604</td>\n",
              "      <td>0.255853</td>\n",
              "      <td>0.247195</td>\n",
              "      <td>0.500091</td>\n",
              "    </tr>\n",
              "    <tr>\n",
              "      <th>min</th>\n",
              "      <td>0.000000</td>\n",
              "      <td>0.000003</td>\n",
              "      <td>0.122000</td>\n",
              "      <td>1.604200e+04</td>\n",
              "      <td>0.014800</td>\n",
              "      <td>0.000000</td>\n",
              "      <td>0.000000</td>\n",
              "      <td>0.018800</td>\n",
              "      <td>-33.097000</td>\n",
              "      <td>0.000000</td>\n",
              "      <td>0.023100</td>\n",
              "      <td>47.859000</td>\n",
              "      <td>1.000000</td>\n",
              "      <td>0.034800</td>\n",
              "      <td>0.000000</td>\n",
              "    </tr>\n",
              "    <tr>\n",
              "      <th>25%</th>\n",
              "      <td>504.000000</td>\n",
              "      <td>0.009630</td>\n",
              "      <td>0.514000</td>\n",
              "      <td>2.000150e+05</td>\n",
              "      <td>0.563000</td>\n",
              "      <td>0.000000</td>\n",
              "      <td>2.000000</td>\n",
              "      <td>0.092300</td>\n",
              "      <td>-8.394000</td>\n",
              "      <td>0.000000</td>\n",
              "      <td>0.037500</td>\n",
              "      <td>100.189000</td>\n",
              "      <td>4.000000</td>\n",
              "      <td>0.295000</td>\n",
              "      <td>0.000000</td>\n",
              "    </tr>\n",
              "    <tr>\n",
              "      <th>50%</th>\n",
              "      <td>1008.000000</td>\n",
              "      <td>0.063300</td>\n",
              "      <td>0.631000</td>\n",
              "      <td>2.292610e+05</td>\n",
              "      <td>0.715000</td>\n",
              "      <td>0.000076</td>\n",
              "      <td>6.000000</td>\n",
              "      <td>0.127000</td>\n",
              "      <td>-6.248000</td>\n",
              "      <td>1.000000</td>\n",
              "      <td>0.054900</td>\n",
              "      <td>121.427000</td>\n",
              "      <td>4.000000</td>\n",
              "      <td>0.492000</td>\n",
              "      <td>1.000000</td>\n",
              "    </tr>\n",
              "    <tr>\n",
              "      <th>75%</th>\n",
              "      <td>1512.000000</td>\n",
              "      <td>0.265000</td>\n",
              "      <td>0.738000</td>\n",
              "      <td>2.703330e+05</td>\n",
              "      <td>0.846000</td>\n",
              "      <td>0.054000</td>\n",
              "      <td>9.000000</td>\n",
              "      <td>0.247000</td>\n",
              "      <td>-4.746000</td>\n",
              "      <td>1.000000</td>\n",
              "      <td>0.108000</td>\n",
              "      <td>137.849000</td>\n",
              "      <td>4.000000</td>\n",
              "      <td>0.691000</td>\n",
              "      <td>1.000000</td>\n",
              "    </tr>\n",
              "    <tr>\n",
              "      <th>max</th>\n",
              "      <td>2016.000000</td>\n",
              "      <td>0.995000</td>\n",
              "      <td>0.984000</td>\n",
              "      <td>1.004627e+06</td>\n",
              "      <td>0.998000</td>\n",
              "      <td>0.976000</td>\n",
              "      <td>11.000000</td>\n",
              "      <td>0.969000</td>\n",
              "      <td>-0.307000</td>\n",
              "      <td>1.000000</td>\n",
              "      <td>0.816000</td>\n",
              "      <td>219.331000</td>\n",
              "      <td>5.000000</td>\n",
              "      <td>0.992000</td>\n",
              "      <td>1.000000</td>\n",
              "    </tr>\n",
              "  </tbody>\n",
              "</table>\n",
              "</div>\n",
              "      <button class=\"colab-df-convert\" onclick=\"convertToInteractive('df-37e7ccd0-4614-4642-ae8a-6699a8ec1685')\"\n",
              "              title=\"Convert this dataframe to an interactive table.\"\n",
              "              style=\"display:none;\">\n",
              "        \n",
              "  <svg xmlns=\"http://www.w3.org/2000/svg\" height=\"24px\"viewBox=\"0 0 24 24\"\n",
              "       width=\"24px\">\n",
              "    <path d=\"M0 0h24v24H0V0z\" fill=\"none\"/>\n",
              "    <path d=\"M18.56 5.44l.94 2.06.94-2.06 2.06-.94-2.06-.94-.94-2.06-.94 2.06-2.06.94zm-11 1L8.5 8.5l.94-2.06 2.06-.94-2.06-.94L8.5 2.5l-.94 2.06-2.06.94zm10 10l.94 2.06.94-2.06 2.06-.94-2.06-.94-.94-2.06-.94 2.06-2.06.94z\"/><path d=\"M17.41 7.96l-1.37-1.37c-.4-.4-.92-.59-1.43-.59-.52 0-1.04.2-1.43.59L10.3 9.45l-7.72 7.72c-.78.78-.78 2.05 0 2.83L4 21.41c.39.39.9.59 1.41.59.51 0 1.02-.2 1.41-.59l7.78-7.78 2.81-2.81c.8-.78.8-2.07 0-2.86zM5.41 20L4 18.59l7.72-7.72 1.47 1.35L5.41 20z\"/>\n",
              "  </svg>\n",
              "      </button>\n",
              "      \n",
              "  <style>\n",
              "    .colab-df-container {\n",
              "      display:flex;\n",
              "      flex-wrap:wrap;\n",
              "      gap: 12px;\n",
              "    }\n",
              "\n",
              "    .colab-df-convert {\n",
              "      background-color: #E8F0FE;\n",
              "      border: none;\n",
              "      border-radius: 50%;\n",
              "      cursor: pointer;\n",
              "      display: none;\n",
              "      fill: #1967D2;\n",
              "      height: 32px;\n",
              "      padding: 0 0 0 0;\n",
              "      width: 32px;\n",
              "    }\n",
              "\n",
              "    .colab-df-convert:hover {\n",
              "      background-color: #E2EBFA;\n",
              "      box-shadow: 0px 1px 2px rgba(60, 64, 67, 0.3), 0px 1px 3px 1px rgba(60, 64, 67, 0.15);\n",
              "      fill: #174EA6;\n",
              "    }\n",
              "\n",
              "    [theme=dark] .colab-df-convert {\n",
              "      background-color: #3B4455;\n",
              "      fill: #D2E3FC;\n",
              "    }\n",
              "\n",
              "    [theme=dark] .colab-df-convert:hover {\n",
              "      background-color: #434B5C;\n",
              "      box-shadow: 0px 1px 3px 1px rgba(0, 0, 0, 0.15);\n",
              "      filter: drop-shadow(0px 1px 2px rgba(0, 0, 0, 0.3));\n",
              "      fill: #FFFFFF;\n",
              "    }\n",
              "  </style>\n",
              "\n",
              "      <script>\n",
              "        const buttonEl =\n",
              "          document.querySelector('#df-37e7ccd0-4614-4642-ae8a-6699a8ec1685 button.colab-df-convert');\n",
              "        buttonEl.style.display =\n",
              "          google.colab.kernel.accessAllowed ? 'block' : 'none';\n",
              "\n",
              "        async function convertToInteractive(key) {\n",
              "          const element = document.querySelector('#df-37e7ccd0-4614-4642-ae8a-6699a8ec1685');\n",
              "          const dataTable =\n",
              "            await google.colab.kernel.invokeFunction('convertToInteractive',\n",
              "                                                     [key], {});\n",
              "          if (!dataTable) return;\n",
              "\n",
              "          const docLinkHtml = 'Like what you see? Visit the ' +\n",
              "            '<a target=\"_blank\" href=https://colab.research.google.com/notebooks/data_table.ipynb>data table notebook</a>'\n",
              "            + ' to learn more about interactive tables.';\n",
              "          element.innerHTML = '';\n",
              "          dataTable['output_type'] = 'display_data';\n",
              "          await google.colab.output.renderOutput(dataTable, element);\n",
              "          const docLink = document.createElement('div');\n",
              "          docLink.innerHTML = docLinkHtml;\n",
              "          element.appendChild(docLink);\n",
              "        }\n",
              "      </script>\n",
              "    </div>\n",
              "  </div>\n",
              "  "
            ]
          },
          "metadata": {},
          "execution_count": 22
        }
      ]
    },
    {
      "cell_type": "code",
      "source": [
        "#Data cleaning\n",
        "df.isnull().sum()\n",
        "\n",
        "#No Null values to drop\n",
        "df = df.drop(['serial_num'], axis=1)\n",
        "df\n",
        "print(len(df.artist.unique()))"
      ],
      "metadata": {
        "colab": {
          "base_uri": "https://localhost:8080/"
        },
        "id": "KcPU0L0cs5dj",
        "outputId": "36e682bd-61ea-4ad0-fab0-e56ad290e28d"
      },
      "execution_count": 23,
      "outputs": [
        {
          "output_type": "stream",
          "name": "stdout",
          "text": [
            "1343\n"
          ]
        }
      ]
    },
    {
      "cell_type": "code",
      "source": [
        "#Split Data into features and labels\n",
        "df.columns\n",
        "feature_cols = ['acousticness', 'danceability', 'duration_ms', 'energy',\n",
        "       'instrumentalness', 'key', 'liveness', 'loudness', 'mode',\n",
        "       'speechiness', 'tempo', 'time_signature', 'valence',]\n",
        "\n",
        "X = df[feature_cols]\n",
        "y = df['target']"
      ],
      "metadata": {
        "id": "wX0Mrr9zrJs2"
      },
      "execution_count": 24,
      "outputs": []
    },
    {
      "cell_type": "code",
      "source": [
        "#Split Data into Train and Test splits\n",
        "X_train, X_test, y_train, y_test = train_test_split(X,y,test_size = 0.25 , random_state = 42)\n"
      ],
      "metadata": {
        "id": "wyv_Z97luzJk"
      },
      "execution_count": 31,
      "outputs": []
    },
    {
      "cell_type": "code",
      "source": [
        "#Train Logistic Regression Model on new Training data\n",
        "\n",
        "model = LogisticRegression(max_iter=1000)\n",
        "model.fit(X_train,y_train)\n",
        "print(accuracy_score(model.predict(X_train),y_train)) "
      ],
      "metadata": {
        "colab": {
          "base_uri": "https://localhost:8080/"
        },
        "id": "hFMDdAE1QdqG",
        "outputId": "66ee169e-58e2-4fff-9eb1-b5f29af5afed"
      },
      "execution_count": 32,
      "outputs": [
        {
          "output_type": "stream",
          "name": "stdout",
          "text": [
            "0.53505291005291\n"
          ]
        }
      ]
    },
    {
      "cell_type": "code",
      "source": [
        "scores = cross_val_score(model,X_train,y_train)\n",
        "print(scores.mean())\n"
      ],
      "metadata": {
        "colab": {
          "base_uri": "https://localhost:8080/"
        },
        "id": "Qq6csd0zWJK9",
        "outputId": "60009981-e954-47fa-b69e-46be115ac41e"
      },
      "execution_count": 33,
      "outputs": [
        {
          "output_type": "stream",
          "name": "stdout",
          "text": [
            "0.5528948921382205\n"
          ]
        }
      ]
    },
    {
      "cell_type": "code",
      "source": [
        "params = {'C' : np.logspace(-6,3,10)}\n",
        "clf = GridSearchCV(model,params)\n",
        "clf.fit(X_train,y_train)\n",
        "print(clf.best_estimator_.C)\n",
        "print(clf.best_score_)"
      ],
      "metadata": {
        "colab": {
          "base_uri": "https://localhost:8080/"
        },
        "id": "0j9_xrSEZWae",
        "outputId": "1084cfa1-ae5b-447d-8943-cb1fd5f54e15"
      },
      "execution_count": 34,
      "outputs": [
        {
          "output_type": "stream",
          "name": "stdout",
          "text": [
            "0.1\n",
            "0.5535549581448211\n"
          ]
        }
      ]
    },
    {
      "cell_type": "code",
      "source": [
        "model = LogisticRegression(max_iter = 1000, C = 0.1)\n",
        "model.fit(X_train,y_train)\n",
        "predictions = clf.predict(X_test)\n",
        "print(accuracy_score(predictions,y_test))"
      ],
      "metadata": {
        "colab": {
          "base_uri": "https://localhost:8080/"
        },
        "id": "zUCZYrR_Z0lY",
        "outputId": "98c3effe-717c-4461-824d-f4e77ccb5b2f"
      },
      "execution_count": 35,
      "outputs": [
        {
          "output_type": "stream",
          "name": "stdout",
          "text": [
            "0.5485148514851486\n"
          ]
        }
      ]
    },
    {
      "cell_type": "code",
      "source": [
        "print(confusion_matrix(predictions,y_test))\n",
        "print(classification_report(predictions,y_test))"
      ],
      "metadata": {
        "id": "bvXDmrkgaY9q",
        "colab": {
          "base_uri": "https://localhost:8080/"
        },
        "outputId": "35aa225a-12ef-4505-cadc-f5465e1602d3"
      },
      "execution_count": 36,
      "outputs": [
        {
          "output_type": "stream",
          "name": "stdout",
          "text": [
            "[[123 110]\n",
            " [118 154]]\n",
            "              precision    recall  f1-score   support\n",
            "\n",
            "           0       0.51      0.53      0.52       233\n",
            "           1       0.58      0.57      0.57       272\n",
            "\n",
            "    accuracy                           0.55       505\n",
            "   macro avg       0.55      0.55      0.55       505\n",
            "weighted avg       0.55      0.55      0.55       505\n",
            "\n"
          ]
        }
      ]
    },
    {
      "cell_type": "code",
      "source": [
        "## SVM Model\n",
        "\n",
        "model_SVM = SVC(kernel='linear')\n",
        "model_SVM.fit(X_train,y_train)\n",
        "preds = model_SVM.predict(X_test)\n",
        "print(accuracy_score(preds,y_test))"
      ],
      "metadata": {
        "id": "uvwCoBHKcjpH",
        "colab": {
          "base_uri": "https://localhost:8080/"
        },
        "outputId": "202f0184-aa59-4cb3-a9cd-18449f86513b"
      },
      "execution_count": 37,
      "outputs": [
        {
          "output_type": "stream",
          "name": "stdout",
          "text": [
            "0.5663366336633663\n"
          ]
        }
      ]
    },
    {
      "cell_type": "code",
      "source": [
        "print(confusion_matrix(preds,y_test))\n",
        "print(classification_report(preds,y_test))"
      ],
      "metadata": {
        "id": "Fvw5sOeaejUW",
        "colab": {
          "base_uri": "https://localhost:8080/"
        },
        "outputId": "52db89f8-3706-4d10-a445-7f11e78a93e9"
      },
      "execution_count": 38,
      "outputs": [
        {
          "output_type": "stream",
          "name": "stdout",
          "text": [
            "[[131 109]\n",
            " [110 155]]\n",
            "              precision    recall  f1-score   support\n",
            "\n",
            "           0       0.54      0.55      0.54       240\n",
            "           1       0.59      0.58      0.59       265\n",
            "\n",
            "    accuracy                           0.57       505\n",
            "   macro avg       0.57      0.57      0.57       505\n",
            "weighted avg       0.57      0.57      0.57       505\n",
            "\n"
          ]
        }
      ]
    }
  ]
}